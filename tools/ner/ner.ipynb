{
 "cells": [
  {
   "cell_type": "code",
   "execution_count": 1,
   "metadata": {},
   "outputs": [],
   "source": [
    "import torch\n",
    "import torch.nn as nn\n",
    "import torch.optim as optim\n",
    "import torch.nn.functional as F\n",
    "import os\n",
    "import json\n",
    "import time"
   ]
  },
  {
   "cell_type": "code",
   "execution_count": 2,
   "metadata": {},
   "outputs": [],
   "source": [
    "class Dictionary:\n",
    "    def __init__(self):\n",
    "        # 0 reserved for padding char\n",
    "        # 1 reserved for unknown char\n",
    "        self.num_chars = 2\n",
    "        self.dict = {}\n",
    "        \n",
    "    def add_string(self, string):\n",
    "        for c in string:\n",
    "            self.add_char(c)\n",
    "            \n",
    "    def add_char(self, c):\n",
    "        if c not in self.dict:\n",
    "            self.dict[c] = self.num_chars\n",
    "            self.num_chars += 1\n",
    "    \n",
    "    def find_char(self, c):\n",
    "        if c in self.dict:\n",
    "            return self.dict[c]\n",
    "        else:\n",
    "            return 1\n",
    "    \n",
    "    # output shape: (len(ss))\n",
    "    def prepare_input_sequence(self, s, seq_len=None):\n",
    "        if seq_len is None:\n",
    "            return torch.tensor([self.find_char(c) for c in s])\n",
    "        else:\n",
    "            t = torch.zeros([seq_len], dtype=torch.long)\n",
    "            t[:len(s)] = torch.tensor([self.find_char(c) for c in s])\n",
    "            return t\n",
    "\n",
    "    # output shape: (seq_len)\n",
    "    def prepare_tag_sequence(self, seq_len, entity_beg, entity_len):\n",
    "        t = torch.zeros(seq_len)\n",
    "        t[entity_beg:entity_beg+entity_len] = 1\n",
    "        return t\n",
    "    \n",
    "    # output type: (in, targ), in.size() = targ.size() = (len(s))\n",
    "    def prepare_example(self, s, entity_beg, entity_len):\n",
    "        inputs = self.prepare_input_sequence(s)\n",
    "        targets = self.prepare_tag_sequence(len(s), entity_beg, entity_len)\n",
    "        return inputs, targets\n",
    "    \n",
    "    # input type:  array of [title, entity_beg, entity_len]\n",
    "    # output type: (in, targ), in.size() = targ.size() = (max(len(records[0])), len(records))\n",
    "    def prepare_examples(self, records):\n",
    "        max_seq_len = max(len(r[0]) for r in records)\n",
    "        input_tensor = torch.zeros([max_seq_len, len(records)], dtype=torch.long)\n",
    "        target_tensor = torch.zeros([max_seq_len, len(records)])\n",
    "        for i,r in enumerate(records):\n",
    "            input_tensor[:, i] = self.prepare_input_sequence(r[0], max_seq_len)\n",
    "            target_tensor[:, i] = self.prepare_tag_sequence(max_seq_len, r[1], r[2])\n",
    "        return input_tensor, target_tensor\n",
    "        \n",
    "    \n",
    "    def save(self, file):\n",
    "        with open(file, 'w') as f:\n",
    "            json.dump({ 'n': self.num_chars, 'd': self.dict }, f)\n",
    "    def load(self, file):\n",
    "        with open(file) as f:\n",
    "            obj = json.load(f)\n",
    "            self.num_chars = obj['n']\n",
    "            self.dict = obj['d']"
   ]
  },
  {
   "cell_type": "code",
   "execution_count": 3,
   "metadata": {},
   "outputs": [],
   "source": [
    "import pandas as pd\n",
    "\n",
    "corpus = pd.read_csv(\"../../corpus/company-news.csv\")"
   ]
  },
  {
   "cell_type": "code",
   "execution_count": null,
   "metadata": {},
   "outputs": [],
   "source": []
  },
  {
   "cell_type": "code",
   "execution_count": 4,
   "metadata": {},
   "outputs": [
    {
     "data": {
      "text/plain": [
       "5328"
      ]
     },
     "execution_count": 4,
     "metadata": {},
     "output_type": "execute_result"
    }
   ],
   "source": [
    "vocab = Dictionary()\n",
    "if os.path.exists('vocab.db'):\n",
    "    vocab.load('vocab.db')\n",
    "else:\n",
    "    for news_title in corpus['title']:\n",
    "        vocab.add_string(news_title)\n",
    "    vocab.save('vocab.db')\n",
    "vocab.num_chars"
   ]
  },
  {
   "cell_type": "code",
   "execution_count": 5,
   "metadata": {},
   "outputs": [
    {
     "data": {
      "text/plain": [
       "5326"
      ]
     },
     "execution_count": 5,
     "metadata": {},
     "output_type": "execute_result"
    }
   ],
   "source": [
    "len(vocab.dict)"
   ]
  },
  {
   "cell_type": "code",
   "execution_count": 24,
   "metadata": {},
   "outputs": [],
   "source": [
    "torch.manual_seed(1)\n",
    "\n",
    "class SeqClassifier(nn.Module):\n",
    "    def __init__(self, vocab_size, embedding_size=100, bidirectional=True,\n",
    "                 num_layers=1, hidden_size=100):\n",
    "        super(self.__class__, self).__init__()\n",
    "        \n",
    "        self.hidden_size = hidden_size\n",
    "        self.embedding_size = embedding_size\n",
    "        self.num_layers = num_layers\n",
    "        self.num_dir = 2 if bidirectional else 1\n",
    "        \n",
    "        self.word_embedding = nn.Embedding(vocab_size, embedding_size)\n",
    "        self.lstm = nn.LSTM(\n",
    "            input_size=embedding_size,\n",
    "            hidden_size=hidden_size,\n",
    "            num_layers=num_layers,\n",
    "            bidirectional=bidirectional\n",
    "        )\n",
    "        self.hidden_to_hidden = nn.Linear(hidden_size * self.num_dir, hidden_size * self.num_dir)\n",
    "        self.hidden_to_tag = nn.Linear(hidden_size * self.num_dir, 1)\n",
    "        self.hidden = self.init_hidden()\n",
    "        \n",
    "    def init_hidden(self, batch_size=1):\n",
    "        return (torch.zeros(self.num_layers * self.num_dir, batch_size, self.hidden_size),\n",
    "                torch.zeros(self.num_layers * self.num_dir, batch_size, self.hidden_size))\n",
    "    \n",
    "    # input shape: (seq_len, batch_size)\n",
    "    def forward(self, seqs):\n",
    "        batch_size = seqs.size()[1]\n",
    "        seq_len = seqs.size()[0]\n",
    "        \n",
    "        self.hidden = self.init_hidden(batch_size)\n",
    "        embeds = self.word_embedding(seqs).view(seq_len, batch_size, self.embedding_size)\n",
    "        lstm_out, self.hidden = self.lstm(embeds, self.hidden)\n",
    "        hidden = F.relu(self.hidden_to_hidden(F.relu(F.dropout(lstm_out, p=0.2))))\n",
    "        tag_space = self.hidden_to_tag(F.dropout(hidden, p=0.2)).view(seq_len, batch_size)\n",
    "        return tag_space"
   ]
  },
  {
   "cell_type": "code",
   "execution_count": 25,
   "metadata": {},
   "outputs": [],
   "source": [
    "# \n",
    "model = torch.load(f\"training-34-1760.6831183843315.model\")\n",
    "torch.save(model.state_dict(), 'mytraining.pt')\n",
    "model = SeqClassifier(vocab_size=vocab.num_chars, embedding_size=32, hidden_size=64, num_layers=2)\n",
    "model.load_state_dict(torch.load('mytraining.pt'))\n",
    "loss_function = nn.BCEWithLogitsLoss()\n",
    "optimizer = torch.optim.Adam(model.parameters(), lr=0.002)"
   ]
  },
  {
   "cell_type": "code",
   "execution_count": 26,
   "metadata": {},
   "outputs": [
    {
     "data": {
      "text/html": [
       "<span style=\"color: #480\" title=\"0.8640334606170654\">中</span><span style=\"color: #a80\" title=\"0.4801596403121948\">国</span><span style=\"color: #a80\" title=\"0.4175671339035034\">O</span><span style=\"color: #480\" title=\"0.7783727049827576\">L</span><span style=\"color: #a80\" title=\"0.4380837380886078\">E</span><span style=\"color: #a80\" title=\"0.3020947277545929\">D</span><span style=\"color: #a80\" title=\"0.16412624716758728\">电</span><span style=\"color: #a80\" title=\"0.4120800495147705\">视</span><span style=\"color: #f20\" title=\"0.030444413423538208\">出</span><span style=\"color: #f20\" title=\"0.008245754987001419\">货</span><span style=\"color: #f20\" title=\"0.007000320591032505\">量</span><span style=\"color: #f20\" title=\"0.015184634365141392\">明</span><span style=\"color: #f20\" title=\"0.0006025040056556463\">年</span><span style=\"color: #f20\" title=\"0.005650636274367571\">预</span><span style=\"color: #f20\" title=\"0.010624771006405354\">计</span><span style=\"color: #f20\" title=\"0.007827790454030037\">增</span><span style=\"color: #f20\" title=\"0.0055823917500674725\">长</span><span style=\"color: #f20\" title=\"0.0022385790944099426\">近</span><span style=\"color: #f20\" title=\"0.0026536337099969387\">九</span><span style=\"color: #f20\" title=\"0.0027902883011847734\">成</span>"
      ],
      "text/plain": [
       "<IPython.core.display.HTML object>"
      ]
     },
     "metadata": {},
     "output_type": "display_data"
    }
   ],
   "source": [
    "from IPython.display import Markdown, display\n",
    "def printmd(string):\n",
    "    display(Markdown(string))\n",
    "\n",
    "def pprint_tagged_sentence(model, sentence):\n",
    "    from IPython.display import display, HTML\n",
    "\n",
    "    s = vocab.prepare_input_sequence(sentence).view(-1, 1)\n",
    "    pred = torch.sigmoid(model(s)).view(-1).tolist()\n",
    "    def format_c(c, p):\n",
    "        if p < 0.1:\n",
    "            return f'<span style=\"color: #f20\" title=\"{p}\">{c}</span>'\n",
    "        elif 0.1 <= p < 0.5:\n",
    "            return f'<span style=\"color: #a80\" title=\"{p}\">{c}</span>'\n",
    "        elif 0.5 <= p < 0.9:\n",
    "            return f'<span style=\"color: #480\" title=\"{p}\">{c}</span>'\n",
    "        else:\n",
    "            return f'<span style=\"color: #2f0\" title=\"{p}\">{c}</span>'\n",
    "    display(HTML(''.join([format_c(c, p) for p,c in zip(pred, sentence)])))\n",
    "    \n",
    "pprint_tagged_sentence(model, corpus.loc[200]['title'])"
   ]
  },
  {
   "cell_type": "code",
   "execution_count": 27,
   "metadata": {},
   "outputs": [
    {
     "name": "stdout",
     "output_type": "stream",
     "text": [
      "                             title  beg  length\n",
      "99  一点资讯获《互联网新闻信息服务管理规定》施行后首张新闻许可证    0       4\n",
      "input: [30, 1] tensor([106, 160,  18,  55, 132, 178, 677, 560, 162, 226, 678,   3, 564, 189,\n",
      "        190, 679, 680, 335, 681, 180, 682,  81, 338, 412, 683, 226, 678, 684,\n",
      "        685, 546])\n",
      "prediction: [30, 1] tensor([0.3490, 0.6412, 0.2448, 0.6518, 0.0067, 0.0311, 0.1744, 0.2229, 0.1829,\n",
      "        0.0399, 0.1212, 0.1354, 0.1327, 0.0614, 0.0072, 0.0356, 0.1756, 0.0228,\n",
      "        0.0031, 0.0049, 0.0086, 0.0061, 0.0107, 0.0089, 0.0031, 0.0037, 0.0030,\n",
      "        0.0096, 0.0005, 0.0118], grad_fn=<ViewBackward>)\n",
      "target [30, 1] tensor([1., 1., 1., 1., 0., 0., 0., 0., 0., 0., 0., 0., 0., 0., 0., 0., 0., 0.,\n",
      "        0., 0., 0., 0., 0., 0., 0., 0., 0., 0., 0., 0.])\n",
      "loss 0.16238780319690704\n"
     ]
    }
   ],
   "source": [
    "    example = corpus[99:100][['title', 'beg', 'length']]\n",
    "    (inputs, targets) = vocab.prepare_examples(example.values.tolist())\n",
    "    print(example)\n",
    "    print('input:', [*inputs.size()], inputs.view(-1))\n",
    "    tag_scores = model(inputs.view(-1,1))\n",
    "    print('prediction:', [*tag_scores.size()], torch.sigmoid(tag_scores).view(-1))\n",
    "    print('target', [*targets.size()], targets.view(-1))\n",
    "    print('loss', loss_function(tag_scores.view(-1), targets.view(-1)).item())"
   ]
  },
  {
   "cell_type": "code",
   "execution_count": null,
   "metadata": {},
   "outputs": [],
   "source": []
  },
  {
   "cell_type": "code",
   "execution_count": 28,
   "metadata": {
    "scrolled": false
   },
   "outputs": [
    {
     "data": {
      "text/html": [
       "<span style=\"color: #480\" title=\"0.6743162870407104\">中</span><span style=\"color: #a80\" title=\"0.4933619797229767\">信</span><span style=\"color: #a80\" title=\"0.21555878221988678\">重</span><span style=\"color: #f20\" title=\"0.07539916038513184\">工</span><span style=\"color: #f20\" title=\"0.0036768526770174503\">：</span><span style=\"color: #f20\" title=\"0.005742615554481745\">拟</span><span style=\"color: #f20\" title=\"0.03504735231399536\">设</span><span style=\"color: #a80\" title=\"0.3010983467102051\">立</span><span style=\"color: #f20\" title=\"0.05668311566114426\">两</span><span style=\"color: #a80\" title=\"0.12735874950885773\">家</span><span style=\"color: #f20\" title=\"0.01609385572373867\">子</span><span style=\"color: #f20\" title=\"0.008094354532659054\">公</span><span style=\"color: #f20\" title=\"0.006510620005428791\">司</span><span style=\"color: #f20\" title=\"0.011808924376964569\"> </span><span style=\"color: #a80\" title=\"0.23607777059078217\">注</span><span style=\"color: #480\" title=\"0.7082263827323914\">册</span><span style=\"color: #480\" title=\"0.5690768361091614\">资</span><span style=\"color: #f20\" title=\"0.09597574174404144\">本</span><span style=\"color: #f20\" title=\"0.06036688759922981\">各</span><span style=\"color: #f20\" title=\"0.005248494446277618\">5</span><span style=\"color: #f20\" title=\"0.002034764736890793\">0</span><span style=\"color: #f20\" title=\"0.0028280173428356647\">0</span><span style=\"color: #f20\" title=\"0.008526482619345188\">0</span><span style=\"color: #f20\" title=\"0.012949666008353233\">万</span><span style=\"color: #f20\" title=\"0.018682431429624557\">元</span>"
      ],
      "text/plain": [
       "<IPython.core.display.HTML object>"
      ]
     },
     "metadata": {},
     "output_type": "display_data"
    },
    {
     "data": {
      "text/html": [
       "<span style=\"color: #f20\" title=\"0.06687205284833908\">做</span><span style=\"color: #f20\" title=\"0.059408705681562424\">工</span><span style=\"color: #a80\" title=\"0.2677946388721466\">业</span><span style=\"color: #480\" title=\"0.5534674525260925\">气</span><span style=\"color: #a80\" title=\"0.256197065114975\">体</span><span style=\"color: #f20\" title=\"0.09310061484575272\">的</span><span style=\"color: #a80\" title=\"0.11109331250190735\">“</span><span style=\"color: #a80\" title=\"0.13989120721817017\">氨</span><span style=\"color: #a80\" title=\"0.12261141091585159\">监</span><span style=\"color: #f20\" title=\"0.05520892143249512\">测</span><span style=\"color: #f20\" title=\"0.04776166379451752\">师</span><span style=\"color: #f20\" title=\"0.005093712825328112\">”</span><span style=\"color: #f20\" title=\"0.0059251487255096436\">,</span><span style=\"color: #f20\" title=\"0.004006354603916407\">「</span><span style=\"color: #a80\" title=\"0.188521146774292\">海</span><span style=\"color: #f20\" title=\"0.03465607762336731\">尔</span><span style=\"color: #a80\" title=\"0.20346665382385254\">欣</span><span style=\"color: #f20\" title=\"0.0780588760972023\">」</span><span style=\"color: #f20\" title=\"0.016526836901903152\">光</span><span style=\"color: #f20\" title=\"0.08123473078012466\">电</span><span style=\"color: #a80\" title=\"0.1632753163576126\">用</span><span style=\"color: #a80\" title=\"0.16127410531044006\">中</span><span style=\"color: #a80\" title=\"0.10041874647140503\">红</span><span style=\"color: #f20\" title=\"0.02198808640241623\">外</span><span style=\"color: #f20\" title=\"0.005978918168693781\">技</span><span style=\"color: #f20\" title=\"0.010513092391192913\">术</span><span style=\"color: #f20\" title=\"0.006904806010425091\">实</span><span style=\"color: #f20\" title=\"0.005029709078371525\">现</span><span style=\"color: #f20\" title=\"0.005167682189494371\">高</span><span style=\"color: #f20\" title=\"0.048596687614917755\">精</span><span style=\"color: #f20\" title=\"0.014916989021003246\">氨</span><span style=\"color: #a80\" title=\"0.2993479371070862\">逃</span><span style=\"color: #f20\" title=\"0.09439703822135925\">逸</span><span style=\"color: #f20\" title=\"0.031194042414426804\">监</span><span style=\"color: #f20\" title=\"0.0035067328717559576\">测</span>"
      ],
      "text/plain": [
       "<IPython.core.display.HTML object>"
      ]
     },
     "metadata": {},
     "output_type": "display_data"
    },
    {
     "data": {
      "text/html": [
       "<span style=\"color: #a80\" title=\"0.36808323860168457\">独</span><span style=\"color: #a80\" title=\"0.48914140462875366\">家</span><span style=\"color: #a80\" title=\"0.33606135845184326\">丨</span><span style=\"color: #f20\" title=\"0.032872121781110764\">获</span><span style=\"color: #a80\" title=\"0.4058486819267273\">数</span><span style=\"color: #f20\" title=\"0.07617377489805222\">百</span><span style=\"color: #a80\" title=\"0.23211884498596191\">万</span><span style=\"color: #f20\" title=\"0.014822663739323616\">元</span><span style=\"color: #f20\" title=\"0.07678205519914627\">天</span><span style=\"color: #f20\" title=\"0.001404132111929357\">使</span><span style=\"color: #f20\" title=\"0.0016743849264457822\">轮</span><span style=\"color: #f20\" title=\"0.006344384513795376\">融</span><span style=\"color: #f20\" title=\"0.009179479442536831\">资</span><span style=\"color: #f20\" title=\"0.01118752732872963\">，</span><span style=\"color: #f20\" title=\"0.06839130818843842\">芳</span><span style=\"color: #f20\" title=\"0.0649322122335434\">汀</span><span style=\"color: #f20\" title=\"0.0714932456612587\">思</span><span style=\"color: #f20\" title=\"0.033139899373054504\">致</span><span style=\"color: #a80\" title=\"0.18304669857025146\">力</span><span style=\"color: #f20\" title=\"0.08010692894458771\">于</span><span style=\"color: #f20\" title=\"0.010307012125849724\">将</span><span style=\"color: #f20\" title=\"0.04903091862797737\">素</span><span style=\"color: #f20\" title=\"0.04446941986680031\">质</span><span style=\"color: #f20\" title=\"0.016683358699083328\">教</span><span style=\"color: #f20\" title=\"0.05198200047016144\">育</span><span style=\"color: #f20\" title=\"0.012849646620452404\">回</span><span style=\"color: #f20\" title=\"0.007703669369220734\">归</span><span style=\"color: #f20\" title=\"0.009283139370381832\">本</span><span style=\"color: #f20\" title=\"0.00651834812015295\">源</span>"
      ],
      "text/plain": [
       "<IPython.core.display.HTML object>"
      ]
     },
     "metadata": {},
     "output_type": "display_data"
    },
    {
     "name": "stdout",
     "output_type": "stream",
     "text": [
      "E:000/I:00000 - loss: 0.158783\n",
      "E:000/I:00200 - loss: 0.150213\n",
      "E:000/I:00400 - loss: 0.212268\n",
      "E:000/I:00600 - loss: 0.182899\n",
      "E:000/I:00800 - loss: 0.241765\n"
     ]
    },
    {
     "data": {
      "text/html": [
       "<span style=\"color: #480\" title=\"0.762641191482544\">中</span><span style=\"color: #a80\" title=\"0.3950783610343933\">信</span><span style=\"color: #a80\" title=\"0.29054057598114014\">重</span><span style=\"color: #f20\" title=\"0.02411786839365959\">工</span><span style=\"color: #f20\" title=\"9.094086999539286e-05\">：</span><span style=\"color: #f20\" title=\"0.0021776969078928232\">拟</span><span style=\"color: #f20\" title=\"0.05341138318181038\">设</span><span style=\"color: #a80\" title=\"0.19771742820739746\">立</span><span style=\"color: #f20\" title=\"0.09611346572637558\">两</span><span style=\"color: #a80\" title=\"0.34829044342041016\">家</span><span style=\"color: #f20\" title=\"0.01841396652162075\">子</span><span style=\"color: #f20\" title=\"0.0016054147854447365\">公</span><span style=\"color: #f20\" title=\"0.0019374561961740255\">司</span><span style=\"color: #f20\" title=\"0.0033155838027596474\"> </span><span style=\"color: #f20\" title=\"0.03392147272825241\">注</span><span style=\"color: #f20\" title=\"0.08021247386932373\">册</span><span style=\"color: #f20\" title=\"0.04703376442193985\">资</span><span style=\"color: #f20\" title=\"0.02920595370233059\">本</span><span style=\"color: #f20\" title=\"0.02438582479953766\">各</span><span style=\"color: #f20\" title=\"0.001083487062714994\">5</span><span style=\"color: #f20\" title=\"0.002390040783211589\">0</span><span style=\"color: #f20\" title=\"0.005639530718326569\">0</span><span style=\"color: #f20\" title=\"0.0043379561975598335\">0</span><span style=\"color: #f20\" title=\"0.008299259468913078\">万</span><span style=\"color: #f20\" title=\"0.07800360769033432\">元</span>"
      ],
      "text/plain": [
       "<IPython.core.display.HTML object>"
      ]
     },
     "metadata": {},
     "output_type": "display_data"
    },
    {
     "data": {
      "text/html": [
       "<span style=\"color: #a80\" title=\"0.17862746119499207\">做</span><span style=\"color: #f20\" title=\"0.06875226646661758\">工</span><span style=\"color: #a80\" title=\"0.27673372626304626\">业</span><span style=\"color: #480\" title=\"0.5477907061576843\">气</span><span style=\"color: #a80\" title=\"0.2785414457321167\">体</span><span style=\"color: #a80\" title=\"0.12631358206272125\">的</span><span style=\"color: #a80\" title=\"0.24360577762126923\">“</span><span style=\"color: #a80\" title=\"0.16885823011398315\">氨</span><span style=\"color: #a80\" title=\"0.10588021576404572\">监</span><span style=\"color: #f20\" title=\"0.0698373094201088\">测</span><span style=\"color: #f20\" title=\"0.06269005686044693\">师</span><span style=\"color: #f20\" title=\"0.028320621699094772\">”</span><span style=\"color: #f20\" title=\"0.007905653677880764\">,</span><span style=\"color: #f20\" title=\"0.0062807886861264706\">「</span><span style=\"color: #a80\" title=\"0.14193333685398102\">海</span><span style=\"color: #a80\" title=\"0.29261791706085205\">尔</span><span style=\"color: #480\" title=\"0.5335889458656311\">欣</span><span style=\"color: #a80\" title=\"0.12013362348079681\">」</span><span style=\"color: #f20\" title=\"0.028897229582071304\">光</span><span style=\"color: #a80\" title=\"0.1527278572320938\">电</span><span style=\"color: #a80\" title=\"0.3143919110298157\">用</span><span style=\"color: #a80\" title=\"0.3143919110298157\">中</span><span style=\"color: #f20\" title=\"0.08546322584152222\">红</span><span style=\"color: #f20\" title=\"0.030610674992203712\">外</span><span style=\"color: #f20\" title=\"0.014705395326018333\">技</span><span style=\"color: #f20\" title=\"0.018754642456769943\">术</span><span style=\"color: #f20\" title=\"0.012236520648002625\">实</span><span style=\"color: #f20\" title=\"0.009635408408939838\">现</span><span style=\"color: #f20\" title=\"0.006434879265725613\">高</span><span style=\"color: #f20\" title=\"0.07905606180429459\">精</span><span style=\"color: #f20\" title=\"0.03701264038681984\">氨</span><span style=\"color: #a80\" title=\"0.1805584877729416\">逃</span><span style=\"color: #a80\" title=\"0.12142322212457657\">逸</span><span style=\"color: #a80\" title=\"0.1077503189444542\">监</span><span style=\"color: #f20\" title=\"0.00349683896638453\">测</span>"
      ],
      "text/plain": [
       "<IPython.core.display.HTML object>"
      ]
     },
     "metadata": {},
     "output_type": "display_data"
    },
    {
     "data": {
      "text/html": [
       "<span style=\"color: #a80\" title=\"0.2180815488100052\">独</span><span style=\"color: #a80\" title=\"0.4786914885044098\">家</span><span style=\"color: #a80\" title=\"0.46386465430259705\">丨</span><span style=\"color: #f20\" title=\"0.05145569145679474\">获</span><span style=\"color: #a80\" title=\"0.3824998438358307\">数</span><span style=\"color: #a80\" title=\"0.15336990356445312\">百</span><span style=\"color: #a80\" title=\"0.4013681411743164\">万</span><span style=\"color: #f20\" title=\"0.05389120429754257\">元</span><span style=\"color: #a80\" title=\"0.10388398170471191\">天</span><span style=\"color: #f20\" title=\"0.0006752496119588614\">使</span><span style=\"color: #f20\" title=\"0.004070700146257877\">轮</span><span style=\"color: #f20\" title=\"0.009949181228876114\">融</span><span style=\"color: #f20\" title=\"0.016257453709840775\">资</span><span style=\"color: #f20\" title=\"0.004118508193641901\">，</span><span style=\"color: #a80\" title=\"0.10631518065929413\">芳</span><span style=\"color: #a80\" title=\"0.13654856383800507\">汀</span><span style=\"color: #f20\" title=\"0.08856111019849777\">思</span><span style=\"color: #f20\" title=\"0.03443111851811409\">致</span><span style=\"color: #a80\" title=\"0.15555359423160553\">力</span><span style=\"color: #f20\" title=\"0.051315274089574814\">于</span><span style=\"color: #f20\" title=\"0.01570313423871994\">将</span><span style=\"color: #f20\" title=\"0.03831082582473755\">素</span><span style=\"color: #f20\" title=\"0.04389907419681549\">质</span><span style=\"color: #f20\" title=\"0.010736094787716866\">教</span><span style=\"color: #f20\" title=\"0.04034028947353363\">育</span><span style=\"color: #f20\" title=\"0.018381506204605103\">回</span><span style=\"color: #f20\" title=\"0.007068314589560032\">归</span><span style=\"color: #f20\" title=\"0.005656523164361715\">本</span><span style=\"color: #f20\" title=\"0.009661553427577019\">源</span>"
      ],
      "text/plain": [
       "<IPython.core.display.HTML object>"
      ]
     },
     "metadata": {},
     "output_type": "display_data"
    },
    {
     "name": "stdout",
     "output_type": "stream",
     "text": [
      "E:000/I:01000 - loss: 0.121148\n",
      "E:000/I:01200 - loss: 0.241238\n",
      "E:000/I:01400 - loss: 0.242223\n"
     ]
    },
    {
     "data": {
      "text/html": [
       "<span style=\"color: #480\" title=\"0.6938952207565308\">中</span><span style=\"color: #480\" title=\"0.5523751974105835\">信</span><span style=\"color: #480\" title=\"0.5076659321784973\">重</span><span style=\"color: #f20\" title=\"0.024302754551172256\">工</span><span style=\"color: #f20\" title=\"0.00014036991342436522\">：</span><span style=\"color: #f20\" title=\"0.002300963969901204\">拟</span><span style=\"color: #f20\" title=\"0.07205860316753387\">设</span><span style=\"color: #a80\" title=\"0.2513655424118042\">立</span><span style=\"color: #a80\" title=\"0.1328376978635788\">两</span><span style=\"color: #a80\" title=\"0.3770482540130615\">家</span><span style=\"color: #f20\" title=\"0.028182435780763626\">子</span><span style=\"color: #f20\" title=\"0.01990748569369316\">公</span><span style=\"color: #f20\" title=\"0.00328061543405056\">司</span><span style=\"color: #f20\" title=\"0.022730188444256783\"> </span><span style=\"color: #a80\" title=\"0.3558506965637207\">注</span><span style=\"color: #a80\" title=\"0.28759175539016724\">册</span><span style=\"color: #a80\" title=\"0.12161782383918762\">资</span><span style=\"color: #f20\" title=\"0.08382847160100937\">本</span><span style=\"color: #f20\" title=\"0.04794352129101753\">各</span><span style=\"color: #f20\" title=\"0.008971694856882095\">5</span><span style=\"color: #f20\" title=\"0.005712135694921017\">0</span><span style=\"color: #f20\" title=\"0.004445390310138464\">0</span><span style=\"color: #f20\" title=\"0.01400801818817854\">0</span><span style=\"color: #f20\" title=\"0.01157540362328291\">万</span><span style=\"color: #f20\" title=\"0.06404879689216614\">元</span>"
      ],
      "text/plain": [
       "<IPython.core.display.HTML object>"
      ]
     },
     "metadata": {},
     "output_type": "display_data"
    },
    {
     "data": {
      "text/html": [
       "<span style=\"color: #f20\" title=\"0.09608706086874008\">做</span><span style=\"color: #f20\" title=\"0.03229234740138054\">工</span><span style=\"color: #a80\" title=\"0.18479503691196442\">业</span><span style=\"color: #480\" title=\"0.5060698390007019\">气</span><span style=\"color: #a80\" title=\"0.2773301303386688\">体</span><span style=\"color: #a80\" title=\"0.13561324775218964\">的</span><span style=\"color: #a80\" title=\"0.2312002182006836\">“</span><span style=\"color: #a80\" title=\"0.14717894792556763\">氨</span><span style=\"color: #f20\" title=\"0.04178329557180405\">监</span><span style=\"color: #f20\" title=\"0.031102005392313004\">测</span><span style=\"color: #f20\" title=\"0.03860250860452652\">师</span><span style=\"color: #f20\" title=\"0.005437221843749285\">”</span><span style=\"color: #f20\" title=\"0.01829981990158558\">,</span><span style=\"color: #f20\" title=\"0.030797462910413742\">「</span><span style=\"color: #a80\" title=\"0.17622187733650208\">海</span><span style=\"color: #f20\" title=\"0.062021709978580475\">尔</span><span style=\"color: #480\" title=\"0.5825135111808777\">欣</span><span style=\"color: #a80\" title=\"0.1352706104516983\">」</span><span style=\"color: #f20\" title=\"0.053237102925777435\">光</span><span style=\"color: #a80\" title=\"0.1447729468345642\">电</span><span style=\"color: #a80\" title=\"0.34765470027923584\">用</span><span style=\"color: #a80\" title=\"0.3256596028804779\">中</span><span style=\"color: #a80\" title=\"0.20175600051879883\">红</span><span style=\"color: #f20\" title=\"0.0614052377641201\">外</span><span style=\"color: #f20\" title=\"0.05886761099100113\">技</span><span style=\"color: #f20\" title=\"0.05373154953122139\">术</span><span style=\"color: #f20\" title=\"0.04085582494735718\">实</span><span style=\"color: #f20\" title=\"0.032434821128845215\">现</span><span style=\"color: #f20\" title=\"0.01536228321492672\">高</span><span style=\"color: #a80\" title=\"0.19623355567455292\">精</span><span style=\"color: #f20\" title=\"0.07512012869119644\">氨</span><span style=\"color: #a80\" title=\"0.48219379782676697\">逃</span><span style=\"color: #a80\" title=\"0.2105230838060379\">逸</span><span style=\"color: #a80\" title=\"0.1543637365102768\">监</span><span style=\"color: #f20\" title=\"0.01517908088862896\">测</span>"
      ],
      "text/plain": [
       "<IPython.core.display.HTML object>"
      ]
     },
     "metadata": {},
     "output_type": "display_data"
    },
    {
     "data": {
      "text/html": [
       "<span style=\"color: #a80\" title=\"0.14450588822364807\">独</span><span style=\"color: #a80\" title=\"0.3047184348106384\">家</span><span style=\"color: #a80\" title=\"0.21608813107013702\">丨</span><span style=\"color: #f20\" title=\"0.015679845586419106\">获</span><span style=\"color: #a80\" title=\"0.43803080916404724\">数</span><span style=\"color: #a80\" title=\"0.3233290910720825\">百</span><span style=\"color: #a80\" title=\"0.3256596028804779\">万</span><span style=\"color: #f20\" title=\"0.033878885209560394\">元</span><span style=\"color: #a80\" title=\"0.16819436848163605\">天</span><span style=\"color: #f20\" title=\"0.0021551246754825115\">使</span><span style=\"color: #f20\" title=\"0.00800977274775505\">轮</span><span style=\"color: #f20\" title=\"0.014768018387258053\">融</span><span style=\"color: #f20\" title=\"0.03878411278128624\">资</span><span style=\"color: #f20\" title=\"0.012657004408538342\">，</span><span style=\"color: #a80\" title=\"0.18199919164180756\">芳</span><span style=\"color: #a80\" title=\"0.1364002525806427\">汀</span><span style=\"color: #a80\" title=\"0.172575905919075\">思</span><span style=\"color: #f20\" title=\"0.08236805349588394\">致</span><span style=\"color: #a80\" title=\"0.21016757190227509\">力</span><span style=\"color: #f20\" title=\"0.09224174171686172\">于</span><span style=\"color: #f20\" title=\"0.03166508302092552\">将</span><span style=\"color: #f20\" title=\"0.07964014261960983\">素</span><span style=\"color: #f20\" title=\"0.0846489816904068\">质</span><span style=\"color: #f20\" title=\"0.020780665799975395\">教</span><span style=\"color: #f20\" title=\"0.05998958647251129\">育</span><span style=\"color: #f20\" title=\"0.03056337870657444\">回</span><span style=\"color: #f20\" title=\"0.024319903925061226\">归</span><span style=\"color: #f20\" title=\"0.049338195472955704\">本</span><span style=\"color: #f20\" title=\"0.03646666184067726\">源</span>"
      ],
      "text/plain": [
       "<IPython.core.display.HTML object>"
      ]
     },
     "metadata": {},
     "output_type": "display_data"
    },
    {
     "name": "stdout",
     "output_type": "stream",
     "text": [
      "E:000/I:01600 - loss: 0.204247\n",
      "E:000/I:01800 - loss: 0.200590\n",
      "E:000/I:02000 - loss: 0.101381\n",
      "E:000/I:02200 - loss: 0.157299\n"
     ]
    },
    {
     "data": {
      "text/html": [
       "<span style=\"color: #480\" title=\"0.6407760381698608\">中</span><span style=\"color: #a80\" title=\"0.45709559321403503\">信</span><span style=\"color: #480\" title=\"0.5628393292427063\">重</span><span style=\"color: #f20\" title=\"0.02875429578125477\">工</span><span style=\"color: #f20\" title=\"8.99775986908935e-05\">：</span><span style=\"color: #f20\" title=\"0.004274711944162846\">拟</span><span style=\"color: #f20\" title=\"0.09425100684165955\">设</span><span style=\"color: #a80\" title=\"0.3592047691345215\">立</span><span style=\"color: #a80\" title=\"0.12768526375293732\">两</span><span style=\"color: #480\" title=\"0.6240423321723938\">家</span><span style=\"color: #f20\" title=\"0.02352137677371502\">子</span><span style=\"color: #f20\" title=\"0.02236168459057808\">公</span><span style=\"color: #f20\" title=\"0.010417173616588116\">司</span><span style=\"color: #f20\" title=\"0.03301925212144852\"> </span><span style=\"color: #a80\" title=\"0.1863730251789093\">注</span><span style=\"color: #a80\" title=\"0.21772660315036774\">册</span><span style=\"color: #f20\" title=\"0.08658250421285629\">资</span><span style=\"color: #f20\" title=\"0.05892273411154747\">本</span><span style=\"color: #f20\" title=\"0.04951612278819084\">各</span><span style=\"color: #f20\" title=\"0.0013969223946332932\">5</span><span style=\"color: #f20\" title=\"0.007854767143726349\">0</span><span style=\"color: #f20\" title=\"0.0042997002601623535\">0</span><span style=\"color: #f20\" title=\"0.01202901266515255\">0</span><span style=\"color: #f20\" title=\"0.028868593275547028\">万</span><span style=\"color: #a80\" title=\"0.10436258465051651\">元</span>"
      ],
      "text/plain": [
       "<IPython.core.display.HTML object>"
      ]
     },
     "metadata": {},
     "output_type": "display_data"
    },
    {
     "data": {
      "text/html": [
       "<span style=\"color: #f20\" title=\"0.020963575690984726\">做</span><span style=\"color: #f20\" title=\"0.034563302993774414\">工</span><span style=\"color: #a80\" title=\"0.10690360516309738\">业</span><span style=\"color: #a80\" title=\"0.4117142856121063\">气</span><span style=\"color: #a80\" title=\"0.18301048874855042\">体</span><span style=\"color: #f20\" title=\"0.02965012937784195\">的</span><span style=\"color: #a80\" title=\"0.12394660711288452\">“</span><span style=\"color: #a80\" title=\"0.1052163764834404\">氨</span><span style=\"color: #f20\" title=\"0.031805746257305145\">监</span><span style=\"color: #f20\" title=\"0.01575756072998047\">测</span><span style=\"color: #f20\" title=\"0.012526351027190685\">师</span><span style=\"color: #f20\" title=\"0.0033057653345167637\">”</span><span style=\"color: #f20\" title=\"0.025810007005929947\">,</span><span style=\"color: #f20\" title=\"0.014516269788146019\">「</span><span style=\"color: #a80\" title=\"0.13934364914894104\">海</span><span style=\"color: #f20\" title=\"0.07941336929798126\">尔</span><span style=\"color: #480\" title=\"0.6559725403785706\">欣</span><span style=\"color: #f20\" title=\"0.08113090693950653\">」</span><span style=\"color: #f20\" title=\"0.0363183356821537\">光</span><span style=\"color: #a80\" title=\"0.14855097234249115\">电</span><span style=\"color: #a80\" title=\"0.14861299097537994\">用</span><span style=\"color: #a80\" title=\"0.21288888156414032\">中</span><span style=\"color: #a80\" title=\"0.14218591153621674\">红</span><span style=\"color: #f20\" title=\"0.04707685112953186\">外</span><span style=\"color: #f20\" title=\"0.016068482771515846\">技</span><span style=\"color: #f20\" title=\"0.021466538310050964\">术</span><span style=\"color: #f20\" title=\"0.017009034752845764\">实</span><span style=\"color: #f20\" title=\"0.006588083226233721\">现</span><span style=\"color: #f20\" title=\"0.007236733101308346\">高</span><span style=\"color: #f20\" title=\"0.041126761585474014\">精</span><span style=\"color: #f20\" title=\"0.046644728630781174\">氨</span><span style=\"color: #a80\" title=\"0.4501432180404663\">逃</span><span style=\"color: #a80\" title=\"0.11947187781333923\">逸</span><span style=\"color: #a80\" title=\"0.12299954146146774\">监</span><span style=\"color: #f20\" title=\"0.0030748131684958935\">测</span>"
      ],
      "text/plain": [
       "<IPython.core.display.HTML object>"
      ]
     },
     "metadata": {},
     "output_type": "display_data"
    },
    {
     "data": {
      "text/html": [
       "<span style=\"color: #a80\" title=\"0.32709547877311707\">独</span><span style=\"color: #480\" title=\"0.8725854158401489\">家</span><span style=\"color: #480\" title=\"0.5985716581344604\">丨</span><span style=\"color: #a80\" title=\"0.1134677603840828\">获</span><span style=\"color: #a80\" title=\"0.4295828640460968\">数</span><span style=\"color: #a80\" title=\"0.24852889776229858\">百</span><span style=\"color: #a80\" title=\"0.41327735781669617\">万</span><span style=\"color: #f20\" title=\"0.019219836220145226\">元</span><span style=\"color: #a80\" title=\"0.17645661532878876\">天</span><span style=\"color: #f20\" title=\"0.0006873167585581541\">使</span><span style=\"color: #f20\" title=\"0.004464949481189251\">轮</span><span style=\"color: #f20\" title=\"0.013333061710000038\">融</span><span style=\"color: #f20\" title=\"0.020084351301193237\">资</span><span style=\"color: #f20\" title=\"0.0148904575034976\">，</span><span style=\"color: #a80\" title=\"0.141463041305542\">芳</span><span style=\"color: #a80\" title=\"0.1548083871603012\">汀</span><span style=\"color: #a80\" title=\"0.10580377280712128\">思</span><span style=\"color: #f20\" title=\"0.05152212828397751\">致</span><span style=\"color: #a80\" title=\"0.20128124952316284\">力</span><span style=\"color: #f20\" title=\"0.06368827819824219\">于</span><span style=\"color: #f20\" title=\"0.02649899572134018\">将</span><span style=\"color: #f20\" title=\"0.06031108647584915\">素</span><span style=\"color: #f20\" title=\"0.040848325937986374\">质</span><span style=\"color: #f20\" title=\"0.01256532222032547\">教</span><span style=\"color: #f20\" title=\"0.06619004905223846\">育</span><span style=\"color: #f20\" title=\"0.02973935194313526\">回</span><span style=\"color: #f20\" title=\"0.010020389221608639\">归</span><span style=\"color: #f20\" title=\"0.007548726629465818\">本</span><span style=\"color: #f20\" title=\"0.019246302545070648\">源</span>"
      ],
      "text/plain": [
       "<IPython.core.display.HTML object>"
      ]
     },
     "metadata": {},
     "output_type": "display_data"
    },
    {
     "name": "stdout",
     "output_type": "stream",
     "text": [
      "E:000/I:02400 - loss: 0.168960\n",
      "E:000/I:02600 - loss: 0.159740\n",
      "E:000/I:02800 - loss: 0.141414\n",
      "E:000/I:03000 - loss: 0.164306\n"
     ]
    },
    {
     "data": {
      "text/html": [
       "<span style=\"color: #480\" title=\"0.7607569098472595\">中</span><span style=\"color: #a80\" title=\"0.3002946674823761\">信</span><span style=\"color: #a80\" title=\"0.348457008600235\">重</span><span style=\"color: #a80\" title=\"0.2746576964855194\">工</span><span style=\"color: #f20\" title=\"0.0007980213267728686\">：</span><span style=\"color: #f20\" title=\"0.011794498190283775\">拟</span><span style=\"color: #a80\" title=\"0.12936723232269287\">设</span><span style=\"color: #a80\" title=\"0.4929969906806946\">立</span><span style=\"color: #a80\" title=\"0.15671992301940918\">两</span><span style=\"color: #a80\" title=\"0.397677481174469\">家</span><span style=\"color: #f20\" title=\"0.056958504021167755\">子</span><span style=\"color: #f20\" title=\"0.004486354533582926\">公</span><span style=\"color: #f20\" title=\"0.010030205361545086\">司</span><span style=\"color: #f20\" title=\"0.005467205308377743\"> </span><span style=\"color: #f20\" title=\"0.034969501197338104\">注</span><span style=\"color: #a80\" title=\"0.14874865114688873\">册</span><span style=\"color: #f20\" title=\"0.07039821892976761\">资</span><span style=\"color: #f20\" title=\"0.06565744429826736\">本</span><span style=\"color: #f20\" title=\"0.06318584084510803\">各</span><span style=\"color: #f20\" title=\"0.001472250442020595\">5</span><span style=\"color: #f20\" title=\"0.007515068165957928\">0</span><span style=\"color: #f20\" title=\"0.008639761246740818\">0</span><span style=\"color: #f20\" title=\"0.02497747540473938\">0</span><span style=\"color: #f20\" title=\"0.05312667042016983\">万</span><span style=\"color: #f20\" title=\"0.03693542256951332\">元</span>"
      ],
      "text/plain": [
       "<IPython.core.display.HTML object>"
      ]
     },
     "metadata": {},
     "output_type": "display_data"
    },
    {
     "data": {
      "text/html": [
       "<span style=\"color: #f20\" title=\"0.05358833447098732\">做</span><span style=\"color: #f20\" title=\"0.06566067039966583\">工</span><span style=\"color: #a80\" title=\"0.1916370838880539\">业</span><span style=\"color: #a80\" title=\"0.18742094933986664\">气</span><span style=\"color: #a80\" title=\"0.15671458840370178\">体</span><span style=\"color: #a80\" title=\"0.10551415383815765\">的</span><span style=\"color: #f20\" title=\"0.05944018438458443\">“</span><span style=\"color: #a80\" title=\"0.18039649724960327\">氨</span><span style=\"color: #f20\" title=\"0.06335476785898209\">监</span><span style=\"color: #f20\" title=\"0.023757727816700935\">测</span><span style=\"color: #f20\" title=\"0.04617028683423996\">师</span><span style=\"color: #f20\" title=\"0.02241775393486023\">”</span><span style=\"color: #f20\" title=\"0.01816427707672119\">,</span><span style=\"color: #f20\" title=\"0.04687653109431267\">「</span><span style=\"color: #a80\" title=\"0.2747795879840851\">海</span><span style=\"color: #f20\" title=\"0.05334984138607979\">尔</span><span style=\"color: #a80\" title=\"0.49010542035102844\">欣</span><span style=\"color: #f20\" title=\"0.09803373366594315\">」</span><span style=\"color: #f20\" title=\"0.021288707852363586\">光</span><span style=\"color: #a80\" title=\"0.19974945485591888\">电</span><span style=\"color: #a80\" title=\"0.3571576476097107\">用</span><span style=\"color: #a80\" title=\"0.33222055435180664\">中</span><span style=\"color: #a80\" title=\"0.19672012329101562\">红</span><span style=\"color: #f20\" title=\"0.07745692133903503\">外</span><span style=\"color: #f20\" title=\"0.04769202694296837\">技</span><span style=\"color: #f20\" title=\"0.023123987019062042\">术</span><span style=\"color: #f20\" title=\"0.02880912646651268\">实</span><span style=\"color: #f20\" title=\"0.0208536759018898\">现</span><span style=\"color: #f20\" title=\"0.015533218160271645\">高</span><span style=\"color: #a80\" title=\"0.22722677886486053\">精</span><span style=\"color: #a80\" title=\"0.11345754563808441\">氨</span><span style=\"color: #a80\" title=\"0.19927801191806793\">逃</span><span style=\"color: #a80\" title=\"0.1449146270751953\">逸</span><span style=\"color: #f20\" title=\"0.0741962268948555\">监</span><span style=\"color: #f20\" title=\"0.0031739859841763973\">测</span>"
      ],
      "text/plain": [
       "<IPython.core.display.HTML object>"
      ]
     },
     "metadata": {},
     "output_type": "display_data"
    },
    {
     "data": {
      "text/html": [
       "<span style=\"color: #f20\" title=\"0.07218281179666519\">独</span><span style=\"color: #a80\" title=\"0.35226595401763916\">家</span><span style=\"color: #a80\" title=\"0.1604616641998291\">丨</span><span style=\"color: #f20\" title=\"0.08404383808374405\">获</span><span style=\"color: #a80\" title=\"0.30200615525245667\">数</span><span style=\"color: #a80\" title=\"0.21121379733085632\">百</span><span style=\"color: #a80\" title=\"0.24942782521247864\">万</span><span style=\"color: #f20\" title=\"0.015142335556447506\">元</span><span style=\"color: #a80\" title=\"0.15375997126102448\">天</span><span style=\"color: #f20\" title=\"0.0013690764317288995\">使</span><span style=\"color: #f20\" title=\"0.007080507464706898\">轮</span><span style=\"color: #f20\" title=\"0.022757098078727722\">融</span><span style=\"color: #f20\" title=\"0.03182609751820564\">资</span><span style=\"color: #f20\" title=\"0.036115385591983795\">，</span><span style=\"color: #a80\" title=\"0.2099807858467102\">芳</span><span style=\"color: #a80\" title=\"0.15538537502288818\">汀</span><span style=\"color: #a80\" title=\"0.16062147915363312\">思</span><span style=\"color: #f20\" title=\"0.08993791043758392\">致</span><span style=\"color: #a80\" title=\"0.28758469223976135\">力</span><span style=\"color: #f20\" title=\"0.09109418094158173\">于</span><span style=\"color: #f20\" title=\"0.029983386397361755\">将</span><span style=\"color: #f20\" title=\"0.05382929742336273\">素</span><span style=\"color: #f20\" title=\"0.03747278451919556\">质</span><span style=\"color: #f20\" title=\"0.013834941200911999\">教</span><span style=\"color: #f20\" title=\"0.05987774580717087\">育</span><span style=\"color: #f20\" title=\"0.015537600964307785\">回</span><span style=\"color: #f20\" title=\"0.012191318906843662\">归</span><span style=\"color: #f20\" title=\"0.007888737134635448\">本</span><span style=\"color: #f20\" title=\"0.013500739820301533\">源</span>"
      ],
      "text/plain": [
       "<IPython.core.display.HTML object>"
      ]
     },
     "metadata": {},
     "output_type": "display_data"
    },
    {
     "name": "stdout",
     "output_type": "stream",
     "text": [
      "E:000/I:03200 - loss: 0.117698\n",
      "E:000/I:03400 - loss: 0.146287\n",
      "E:000/I:03600 - loss: 0.246683\n",
      "E:000/I:03800 - loss: 0.345544\n"
     ]
    },
    {
     "data": {
      "text/html": [
       "<span style=\"color: #480\" title=\"0.7703213691711426\">中</span><span style=\"color: #480\" title=\"0.553814709186554\">信</span><span style=\"color: #480\" title=\"0.6157703995704651\">重</span><span style=\"color: #a80\" title=\"0.2917150855064392\">工</span><span style=\"color: #f20\" title=\"0.00038060444057919085\">：</span><span style=\"color: #f20\" title=\"0.016449596732854843\">拟</span><span style=\"color: #f20\" title=\"0.0729307308793068\">设</span><span style=\"color: #a80\" title=\"0.40433838963508606\">立</span><span style=\"color: #f20\" title=\"0.09679986536502838\">两</span><span style=\"color: #a80\" title=\"0.4621886909008026\">家</span><span style=\"color: #f20\" title=\"0.06401509791612625\">子</span><span style=\"color: #f20\" title=\"0.009653923101723194\">公</span><span style=\"color: #f20\" title=\"0.04821646213531494\">司</span><span style=\"color: #f20\" title=\"0.023177679628133774\"> </span><span style=\"color: #a80\" title=\"0.2031058520078659\">注</span><span style=\"color: #a80\" title=\"0.4446282982826233\">册</span><span style=\"color: #a80\" title=\"0.4447849690914154\">资</span><span style=\"color: #f20\" title=\"0.09131956845521927\">本</span><span style=\"color: #f20\" title=\"0.07225145399570465\">各</span><span style=\"color: #f20\" title=\"0.0055678836070001125\">5</span><span style=\"color: #f20\" title=\"0.007866770960390568\">0</span><span style=\"color: #f20\" title=\"0.013990707695484161\">0</span><span style=\"color: #f20\" title=\"0.022020354866981506\">0</span><span style=\"color: #f20\" title=\"0.03591602295637131\">万</span><span style=\"color: #f20\" title=\"0.06333855539560318\">元</span>"
      ],
      "text/plain": [
       "<IPython.core.display.HTML object>"
      ]
     },
     "metadata": {},
     "output_type": "display_data"
    },
    {
     "data": {
      "text/html": [
       "<span style=\"color: #a80\" title=\"0.1461472511291504\">做</span><span style=\"color: #f20\" title=\"0.05884094536304474\">工</span><span style=\"color: #a80\" title=\"0.18227875232696533\">业</span><span style=\"color: #a80\" title=\"0.3709453344345093\">气</span><span style=\"color: #a80\" title=\"0.2260400354862213\">体</span><span style=\"color: #f20\" title=\"0.0901392474770546\">的</span><span style=\"color: #a80\" title=\"0.11877697706222534\">“</span><span style=\"color: #a80\" title=\"0.19283409416675568\">氨</span><span style=\"color: #f20\" title=\"0.09609132260084152\">监</span><span style=\"color: #f20\" title=\"0.049889616668224335\">测</span><span style=\"color: #f20\" title=\"0.026383908465504646\">师</span><span style=\"color: #f20\" title=\"0.01965738832950592\">”</span><span style=\"color: #f20\" title=\"0.02985348366200924\">,</span><span style=\"color: #f20\" title=\"0.01091803703457117\">「</span><span style=\"color: #a80\" title=\"0.25637584924697876\">海</span><span style=\"color: #f20\" title=\"0.03141467645764351\">尔</span><span style=\"color: #a80\" title=\"0.21401619911193848\">欣</span><span style=\"color: #f20\" title=\"0.09746117144823074\">」</span><span style=\"color: #f20\" title=\"0.0467248409986496\">光</span><span style=\"color: #a80\" title=\"0.1446947157382965\">电</span><span style=\"color: #a80\" title=\"0.3020029366016388\">用</span><span style=\"color: #a80\" title=\"0.3293306827545166\">中</span><span style=\"color: #a80\" title=\"0.34497758746147156\">红</span><span style=\"color: #a80\" title=\"0.16249026358127594\">外</span><span style=\"color: #f20\" title=\"0.057263217866420746\">技</span><span style=\"color: #f20\" title=\"0.07797810435295105\">术</span><span style=\"color: #f20\" title=\"0.028317544609308243\">实</span><span style=\"color: #f20\" title=\"0.016588011756539345\">现</span><span style=\"color: #f20\" title=\"0.01791474223136902\">高</span><span style=\"color: #a80\" title=\"0.124030701816082\">精</span><span style=\"color: #f20\" title=\"0.08961863815784454\">氨</span><span style=\"color: #a80\" title=\"0.20019817352294922\">逃</span><span style=\"color: #a80\" title=\"0.14348585903644562\">逸</span><span style=\"color: #f20\" title=\"0.08789314329624176\">监</span><span style=\"color: #f20\" title=\"0.0035024513490498066\">测</span>"
      ],
      "text/plain": [
       "<IPython.core.display.HTML object>"
      ]
     },
     "metadata": {},
     "output_type": "display_data"
    },
    {
     "data": {
      "text/html": [
       "<span style=\"color: #a80\" title=\"0.15697263181209564\">独</span><span style=\"color: #a80\" title=\"0.4171672761440277\">家</span><span style=\"color: #a80\" title=\"0.20553293824195862\">丨</span><span style=\"color: #f20\" title=\"0.032527294009923935\">获</span><span style=\"color: #a80\" title=\"0.3991158902645111\">数</span><span style=\"color: #a80\" title=\"0.3293306827545166\">百</span><span style=\"color: #a80\" title=\"0.26988187432289124\">万</span><span style=\"color: #f20\" title=\"0.031540099531412125\">元</span><span style=\"color: #a80\" title=\"0.1790473908185959\">天</span><span style=\"color: #f20\" title=\"0.007557938806712627\">使</span><span style=\"color: #f20\" title=\"0.002151447581127286\">轮</span><span style=\"color: #f20\" title=\"0.02535998821258545\">融</span><span style=\"color: #f20\" title=\"0.014841753989458084\">资</span><span style=\"color: #f20\" title=\"0.06570344418287277\">，</span><span style=\"color: #a80\" title=\"0.13974805176258087\">芳</span><span style=\"color: #f20\" title=\"0.07168062776327133\">汀</span><span style=\"color: #f20\" title=\"0.07836559414863586\">思</span><span style=\"color: #f20\" title=\"0.05923151597380638\">致</span><span style=\"color: #a80\" title=\"0.18782007694244385\">力</span><span style=\"color: #f20\" title=\"0.08065102994441986\">于</span><span style=\"color: #f20\" title=\"0.035403572022914886\">将</span><span style=\"color: #f20\" title=\"0.07012702524662018\">素</span><span style=\"color: #f20\" title=\"0.052878424525260925\">质</span><span style=\"color: #f20\" title=\"0.030318111181259155\">教</span><span style=\"color: #f20\" title=\"0.0496976375579834\">育</span><span style=\"color: #f20\" title=\"0.011315034702420235\">回</span><span style=\"color: #f20\" title=\"0.015025880187749863\">归</span><span style=\"color: #f20\" title=\"0.025549158453941345\">本</span><span style=\"color: #f20\" title=\"0.01816725544631481\">源</span>"
      ],
      "text/plain": [
       "<IPython.core.display.HTML object>"
      ]
     },
     "metadata": {},
     "output_type": "display_data"
    },
    {
     "name": "stdout",
     "output_type": "stream",
     "text": [
      "E:000/I:04000 - loss: 0.184913\n",
      "E:000/I:04200 - loss: 0.139421\n",
      "E:000/I:04400 - loss: 0.114850\n"
     ]
    },
    {
     "data": {
      "text/html": [
       "<span style=\"color: #480\" title=\"0.816140353679657\">中</span><span style=\"color: #a80\" title=\"0.39563751220703125\">信</span><span style=\"color: #a80\" title=\"0.4812905788421631\">重</span><span style=\"color: #f20\" title=\"0.0794411301612854\">工</span><span style=\"color: #f20\" title=\"0.0014996848767623305\">：</span><span style=\"color: #f20\" title=\"0.008720341138541698\">拟</span><span style=\"color: #f20\" title=\"0.09988165646791458\">设</span><span style=\"color: #a80\" title=\"0.41971710324287415\">立</span><span style=\"color: #f20\" title=\"0.09294603019952774\">两</span><span style=\"color: #a80\" title=\"0.4671194553375244\">家</span><span style=\"color: #f20\" title=\"0.06950172036886215\">子</span><span style=\"color: #f20\" title=\"0.007032918743789196\">公</span><span style=\"color: #f20\" title=\"0.0039091529324650764\">司</span><span style=\"color: #f20\" title=\"0.02568020299077034\"> </span><span style=\"color: #480\" title=\"0.5227264165878296\">注</span><span style=\"color: #480\" title=\"0.5760574340820312\">册</span><span style=\"color: #f20\" title=\"0.04412577673792839\">资</span><span style=\"color: #f20\" title=\"0.04863270744681358\">本</span><span style=\"color: #f20\" title=\"0.02556922286748886\">各</span><span style=\"color: #f20\" title=\"0.0031149776186794043\">5</span><span style=\"color: #f20\" title=\"0.00674675265327096\">0</span><span style=\"color: #f20\" title=\"0.007236373610794544\">0</span><span style=\"color: #f20\" title=\"0.01926526241004467\">0</span><span style=\"color: #f20\" title=\"0.029605519026517868\">万</span><span style=\"color: #f20\" title=\"0.06149899214506149\">元</span>"
      ],
      "text/plain": [
       "<IPython.core.display.HTML object>"
      ]
     },
     "metadata": {},
     "output_type": "display_data"
    },
    {
     "data": {
      "text/html": [
       "<span style=\"color: #f20\" title=\"0.07232257723808289\">做</span><span style=\"color: #f20\" title=\"0.04668330401182175\">工</span><span style=\"color: #a80\" title=\"0.1323476880788803\">业</span><span style=\"color: #a80\" title=\"0.2986421585083008\">气</span><span style=\"color: #a80\" title=\"0.20000827312469482\">体</span><span style=\"color: #f20\" title=\"0.07642116397619247\">的</span><span style=\"color: #f20\" title=\"0.06879199296236038\">“</span><span style=\"color: #a80\" title=\"0.15415197610855103\">氨</span><span style=\"color: #f20\" title=\"0.09287507832050323\">监</span><span style=\"color: #f20\" title=\"0.022345490753650665\">测</span><span style=\"color: #f20\" title=\"0.030918801203370094\">师</span><span style=\"color: #f20\" title=\"0.013164978474378586\">”</span><span style=\"color: #f20\" title=\"0.022347548976540565\">,</span><span style=\"color: #f20\" title=\"0.011201023124158382\">「</span><span style=\"color: #a80\" title=\"0.18286330997943878\">海</span><span style=\"color: #f20\" title=\"0.03258039429783821\">尔</span><span style=\"color: #a80\" title=\"0.34439465403556824\">欣</span><span style=\"color: #a80\" title=\"0.1024257093667984\">」</span><span style=\"color: #f20\" title=\"0.016877971589565277\">光</span><span style=\"color: #a80\" title=\"0.11844395101070404\">电</span><span style=\"color: #a80\" title=\"0.19772984087467194\">用</span><span style=\"color: #a80\" title=\"0.1124555692076683\">中</span><span style=\"color: #a80\" title=\"0.1618456244468689\">红</span><span style=\"color: #f20\" title=\"0.05424618348479271\">外</span><span style=\"color: #f20\" title=\"0.02679554373025894\">技</span><span style=\"color: #f20\" title=\"0.05225059390068054\">术</span><span style=\"color: #f20\" title=\"0.021561790257692337\">实</span><span style=\"color: #f20\" title=\"0.01228219736367464\">现</span><span style=\"color: #f20\" title=\"0.009947472251951694\">高</span><span style=\"color: #f20\" title=\"0.07186683267354965\">精</span><span style=\"color: #f20\" title=\"0.05671839043498039\">氨</span><span style=\"color: #a80\" title=\"0.17486436665058136\">逃</span><span style=\"color: #a80\" title=\"0.18480819463729858\">逸</span><span style=\"color: #a80\" title=\"0.10720118880271912\">监</span><span style=\"color: #f20\" title=\"0.004011562094092369\">测</span>"
      ],
      "text/plain": [
       "<IPython.core.display.HTML object>"
      ]
     },
     "metadata": {},
     "output_type": "display_data"
    },
    {
     "data": {
      "text/html": [
       "<span style=\"color: #480\" title=\"0.6075013279914856\">独</span><span style=\"color: #480\" title=\"0.8569208383560181\">家</span><span style=\"color: #a80\" title=\"0.46710604429244995\">丨</span><span style=\"color: #a80\" title=\"0.11585079878568649\">获</span><span style=\"color: #a80\" title=\"0.3778216540813446\">数</span><span style=\"color: #a80\" title=\"0.2985379099845886\">百</span><span style=\"color: #a80\" title=\"0.36051347851753235\">万</span><span style=\"color: #f20\" title=\"0.05391749367117882\">元</span><span style=\"color: #a80\" title=\"0.15298251807689667\">天</span><span style=\"color: #f20\" title=\"0.005901230964809656\">使</span><span style=\"color: #f20\" title=\"0.00202142889611423\">轮</span><span style=\"color: #f20\" title=\"0.01796255074441433\">融</span><span style=\"color: #f20\" title=\"0.008367517963051796\">资</span><span style=\"color: #f20\" title=\"0.024463796988129616\">，</span><span style=\"color: #a80\" title=\"0.12599767744541168\">芳</span><span style=\"color: #a80\" title=\"0.10958991199731827\">汀</span><span style=\"color: #f20\" title=\"0.09978689253330231\">思</span><span style=\"color: #f20\" title=\"0.07260876893997192\">致</span><span style=\"color: #a80\" title=\"0.20738282799720764\">力</span><span style=\"color: #f20\" title=\"0.0538557693362236\">于</span><span style=\"color: #f20\" title=\"0.026752609759569168\">将</span><span style=\"color: #f20\" title=\"0.04798811301589012\">素</span><span style=\"color: #f20\" title=\"0.03421340510249138\">质</span><span style=\"color: #f20\" title=\"0.014042372815310955\">教</span><span style=\"color: #f20\" title=\"0.03611072152853012\">育</span><span style=\"color: #f20\" title=\"0.03326880931854248\">回</span><span style=\"color: #f20\" title=\"0.01527647115290165\">归</span><span style=\"color: #f20\" title=\"0.01543643232434988\">本</span><span style=\"color: #f20\" title=\"0.015856176614761353\">源</span>"
      ],
      "text/plain": [
       "<IPython.core.display.HTML object>"
      ]
     },
     "metadata": {},
     "output_type": "display_data"
    },
    {
     "name": "stdout",
     "output_type": "stream",
     "text": [
      "E:000/I:04600 - loss: 0.153545\n",
      "E:000/I:04800 - loss: 0.137067\n",
      "E:000/I:05000 - loss: 0.235778\n",
      "E:000/I:05200 - loss: 0.202105\n"
     ]
    },
    {
     "data": {
      "text/html": [
       "<span style=\"color: #480\" title=\"0.7675517201423645\">中</span><span style=\"color: #a80\" title=\"0.3271820843219757\">信</span><span style=\"color: #a80\" title=\"0.32025542855262756\">重</span><span style=\"color: #a80\" title=\"0.14717338979244232\">工</span><span style=\"color: #f20\" title=\"0.00458595110103488\">：</span><span style=\"color: #f20\" title=\"0.011117602698504925\">拟</span><span style=\"color: #a80\" title=\"0.1005585715174675\">设</span><span style=\"color: #a80\" title=\"0.34590691328048706\">立</span><span style=\"color: #a80\" title=\"0.14406445622444153\">两</span><span style=\"color: #a80\" title=\"0.3222159445285797\">家</span><span style=\"color: #f20\" title=\"0.039272718131542206\">子</span><span style=\"color: #f20\" title=\"0.01094102207571268\">公</span><span style=\"color: #f20\" title=\"0.006320564076304436\">司</span><span style=\"color: #f20\" title=\"0.033302146941423416\"> </span><span style=\"color: #480\" title=\"0.5141589641571045\">注</span><span style=\"color: #a80\" title=\"0.39466169476509094\">册</span><span style=\"color: #f20\" title=\"0.07220670580863953\">资</span><span style=\"color: #f20\" title=\"0.04887254163622856\">本</span><span style=\"color: #f20\" title=\"0.048227306455373764\">各</span><span style=\"color: #f20\" title=\"0.006003473419696093\">5</span><span style=\"color: #f20\" title=\"0.003239759709686041\">0</span><span style=\"color: #f20\" title=\"0.006562327966094017\">0</span><span style=\"color: #f20\" title=\"0.036507926881313324\">0</span><span style=\"color: #f20\" title=\"0.05450791120529175\">万</span><span style=\"color: #f20\" title=\"0.0629458948969841\">元</span>"
      ],
      "text/plain": [
       "<IPython.core.display.HTML object>"
      ]
     },
     "metadata": {},
     "output_type": "display_data"
    },
    {
     "data": {
      "text/html": [
       "<span style=\"color: #f20\" title=\"0.049960918724536896\">做</span><span style=\"color: #f20\" title=\"0.052010297775268555\">工</span><span style=\"color: #a80\" title=\"0.11385905742645264\">业</span><span style=\"color: #a80\" title=\"0.13857758045196533\">气</span><span style=\"color: #f20\" title=\"0.07685961574316025\">体</span><span style=\"color: #f20\" title=\"0.03495045378804207\">的</span><span style=\"color: #f20\" title=\"0.08189999312162399\">“</span><span style=\"color: #a80\" title=\"0.21321594715118408\">氨</span><span style=\"color: #a80\" title=\"0.1347762793302536\">监</span><span style=\"color: #f20\" title=\"0.01951413042843342\">测</span><span style=\"color: #f20\" title=\"0.03335333988070488\">师</span><span style=\"color: #f20\" title=\"0.007986449636518955\">”</span><span style=\"color: #f20\" title=\"0.03746803104877472\">,</span><span style=\"color: #f20\" title=\"0.005128770135343075\">「</span><span style=\"color: #a80\" title=\"0.3092544376850128\">海</span><span style=\"color: #f20\" title=\"0.015651404857635498\">尔</span><span style=\"color: #a80\" title=\"0.2829594612121582\">欣</span><span style=\"color: #a80\" title=\"0.10980752855539322\">」</span><span style=\"color: #f20\" title=\"0.029070420190691948\">光</span><span style=\"color: #a80\" title=\"0.1216784417629242\">电</span><span style=\"color: #a80\" title=\"0.15302494168281555\">用</span><span style=\"color: #a80\" title=\"0.15390916168689728\">中</span><span style=\"color: #a80\" title=\"0.12963928282260895\">红</span><span style=\"color: #f20\" title=\"0.06664026528596878\">外</span><span style=\"color: #f20\" title=\"0.023715389892458916\">技</span><span style=\"color: #f20\" title=\"0.06553639471530914\">术</span><span style=\"color: #f20\" title=\"0.02168254368007183\">实</span><span style=\"color: #f20\" title=\"0.015061242505908012\">现</span><span style=\"color: #f20\" title=\"0.014310579746961594\">高</span><span style=\"color: #f20\" title=\"0.09434332698583603\">精</span><span style=\"color: #f20\" title=\"0.06428270041942596\">氨</span><span style=\"color: #a80\" title=\"0.15863345563411713\">逃</span><span style=\"color: #a80\" title=\"0.11283564567565918\">逸</span><span style=\"color: #f20\" title=\"0.05676724761724472\">监</span><span style=\"color: #f20\" title=\"0.00513932341709733\">测</span>"
      ],
      "text/plain": [
       "<IPython.core.display.HTML object>"
      ]
     },
     "metadata": {},
     "output_type": "display_data"
    },
    {
     "data": {
      "text/html": [
       "<span style=\"color: #a80\" title=\"0.19616353511810303\">独</span><span style=\"color: #480\" title=\"0.5391871929168701\">家</span><span style=\"color: #a80\" title=\"0.25675085186958313\">丨</span><span style=\"color: #f20\" title=\"0.07237422466278076\">获</span><span style=\"color: #a80\" title=\"0.3816792070865631\">数</span><span style=\"color: #a80\" title=\"0.26211029291152954\">百</span><span style=\"color: #a80\" title=\"0.35236111283302307\">万</span><span style=\"color: #f20\" title=\"0.02603539638221264\">元</span><span style=\"color: #a80\" title=\"0.12290698289871216\">天</span><span style=\"color: #f20\" title=\"0.005744434427469969\">使</span><span style=\"color: #f20\" title=\"0.007723557762801647\">轮</span><span style=\"color: #f20\" title=\"0.014331095851957798\">融</span><span style=\"color: #f20\" title=\"0.010909791104495525\">资</span><span style=\"color: #f20\" title=\"0.004469888284802437\">，</span><span style=\"color: #a80\" title=\"0.20504312217235565\">芳</span><span style=\"color: #a80\" title=\"0.126175194978714\">汀</span><span style=\"color: #f20\" title=\"0.09281979501247406\">思</span><span style=\"color: #f20\" title=\"0.07290170341730118\">致</span><span style=\"color: #a80\" title=\"0.1484752744436264\">力</span><span style=\"color: #f20\" title=\"0.06088847294449806\">于</span><span style=\"color: #f20\" title=\"0.034629110246896744\">将</span><span style=\"color: #f20\" title=\"0.0852876827120781\">素</span><span style=\"color: #f20\" title=\"0.046862345188856125\">质</span><span style=\"color: #f20\" title=\"0.017843037843704224\">教</span><span style=\"color: #f20\" title=\"0.04196752980351448\">育</span><span style=\"color: #f20\" title=\"0.013371286913752556\">回</span><span style=\"color: #f20\" title=\"0.009987063705921173\">归</span><span style=\"color: #f20\" title=\"0.025005487725138664\">本</span><span style=\"color: #f20\" title=\"0.01625489816069603\">源</span>"
      ],
      "text/plain": [
       "<IPython.core.display.HTML object>"
      ]
     },
     "metadata": {},
     "output_type": "display_data"
    },
    {
     "ename": "KeyboardInterrupt",
     "evalue": "",
     "output_type": "error",
     "traceback": [
      "\u001b[0;31m---------------------------------------------------------------------------\u001b[0m",
      "\u001b[0;31mKeyboardInterrupt\u001b[0m                         Traceback (most recent call last)",
      "\u001b[0;32m<ipython-input-28-ec39ec4e35a2>\u001b[0m in \u001b[0;36m<module>\u001b[0;34m\u001b[0m\n\u001b[1;32m     34\u001b[0m \u001b[0;34m\u001b[0m\u001b[0m\n\u001b[1;32m     35\u001b[0m         \u001b[0;31m# backward pass\u001b[0m\u001b[0;34m\u001b[0m\u001b[0;34m\u001b[0m\u001b[0m\n\u001b[0;32m---> 36\u001b[0;31m         \u001b[0mloss\u001b[0m\u001b[0;34m.\u001b[0m\u001b[0mbackward\u001b[0m\u001b[0;34m(\u001b[0m\u001b[0;34m)\u001b[0m\u001b[0;34m\u001b[0m\u001b[0m\n\u001b[0m\u001b[1;32m     37\u001b[0m         \u001b[0moptimizer\u001b[0m\u001b[0;34m.\u001b[0m\u001b[0mstep\u001b[0m\u001b[0;34m(\u001b[0m\u001b[0;34m)\u001b[0m\u001b[0;34m\u001b[0m\u001b[0m\n\u001b[1;32m     38\u001b[0m \u001b[0;34m\u001b[0m\u001b[0m\n",
      "\u001b[0;32m~/.pyenv/versions/3.6.3/lib/python3.6/site-packages/torch/tensor.py\u001b[0m in \u001b[0;36mbackward\u001b[0;34m(self, gradient, retain_graph, create_graph)\u001b[0m\n\u001b[1;32m     91\u001b[0m                 \u001b[0mproducts\u001b[0m\u001b[0;34m.\u001b[0m \u001b[0mDefaults\u001b[0m \u001b[0mto\u001b[0m\u001b[0;31m \u001b[0m\u001b[0;31m`\u001b[0m\u001b[0;31m`\u001b[0m\u001b[0;32mFalse\u001b[0m\u001b[0;31m`\u001b[0m\u001b[0;31m`\u001b[0m\u001b[0;34m.\u001b[0m\u001b[0;34m\u001b[0m\u001b[0m\n\u001b[1;32m     92\u001b[0m         \"\"\"\n\u001b[0;32m---> 93\u001b[0;31m         \u001b[0mtorch\u001b[0m\u001b[0;34m.\u001b[0m\u001b[0mautograd\u001b[0m\u001b[0;34m.\u001b[0m\u001b[0mbackward\u001b[0m\u001b[0;34m(\u001b[0m\u001b[0mself\u001b[0m\u001b[0;34m,\u001b[0m \u001b[0mgradient\u001b[0m\u001b[0;34m,\u001b[0m \u001b[0mretain_graph\u001b[0m\u001b[0;34m,\u001b[0m \u001b[0mcreate_graph\u001b[0m\u001b[0;34m)\u001b[0m\u001b[0;34m\u001b[0m\u001b[0m\n\u001b[0m\u001b[1;32m     94\u001b[0m \u001b[0;34m\u001b[0m\u001b[0m\n\u001b[1;32m     95\u001b[0m     \u001b[0;32mdef\u001b[0m \u001b[0mregister_hook\u001b[0m\u001b[0;34m(\u001b[0m\u001b[0mself\u001b[0m\u001b[0;34m,\u001b[0m \u001b[0mhook\u001b[0m\u001b[0;34m)\u001b[0m\u001b[0;34m:\u001b[0m\u001b[0;34m\u001b[0m\u001b[0m\n",
      "\u001b[0;32m~/.pyenv/versions/3.6.3/lib/python3.6/site-packages/torch/autograd/__init__.py\u001b[0m in \u001b[0;36mbackward\u001b[0;34m(tensors, grad_tensors, retain_graph, create_graph, grad_variables)\u001b[0m\n\u001b[1;32m     88\u001b[0m     Variable._execution_engine.run_backward(\n\u001b[1;32m     89\u001b[0m         \u001b[0mtensors\u001b[0m\u001b[0;34m,\u001b[0m \u001b[0mgrad_tensors\u001b[0m\u001b[0;34m,\u001b[0m \u001b[0mretain_graph\u001b[0m\u001b[0;34m,\u001b[0m \u001b[0mcreate_graph\u001b[0m\u001b[0;34m,\u001b[0m\u001b[0;34m\u001b[0m\u001b[0m\n\u001b[0;32m---> 90\u001b[0;31m         allow_unreachable=True)  # allow_unreachable flag\n\u001b[0m\u001b[1;32m     91\u001b[0m \u001b[0;34m\u001b[0m\u001b[0m\n\u001b[1;32m     92\u001b[0m \u001b[0;34m\u001b[0m\u001b[0m\n",
      "\u001b[0;31mKeyboardInterrupt\u001b[0m: "
     ]
    }
   ],
   "source": [
    "# total 938838\n",
    "training_size = 100000\n",
    "testing_size = 200\n",
    "samples = ['中信重工：拟设立两家子公司 注册资本各5000万元',\n",
    "           '做工业气体的“氨监测师”,「海尔欣」光电用中红外技术实现高精氨逃逸监测',\n",
    "           '独家丨获数百万元天使轮融资，芳汀思致力于将素质教育回归本源']\n",
    "total_epoch = 100\n",
    "batch_size = 10\n",
    "\n",
    "last_printed = time.time()\n",
    "\n",
    "\n",
    "for epoch in range(total_epoch):\n",
    "    training_loss = 0.0\n",
    "    \n",
    "    for s in samples:\n",
    "        pprint_tagged_sentence(model, s)\n",
    "    \n",
    "    for i in range(0, min(len(corpus), training_size), batch_size):\n",
    "        # initialize model parameters\n",
    "        model.zero_grad()\n",
    "        model.hidden = model.init_hidden()\n",
    "        \n",
    "        # prepare examples\n",
    "        dataframe = corpus[i:i+batch_size][['title', 'beg', 'length']]\n",
    "        (inputs, targets) = vocab.prepare_examples(dataframe.values.tolist())\n",
    "        \n",
    "        # forward pass\n",
    "        tag_scores = model(inputs)\n",
    "        # print(dataframe, inputs, tag_scores)\n",
    "        # compute and accumulate loss function\n",
    "        loss = loss_function(tag_scores, targets)\n",
    "        training_loss += loss.item()\n",
    "        \n",
    "        # backward pass\n",
    "        loss.backward()\n",
    "        optimizer.step()\n",
    "        \n",
    "        # print stats every 5 secs\n",
    "        \n",
    "        if int(i / batch_size) % 20 == 0:\n",
    "            print(f\"E:%03d/I:%05d - loss: %.06f\" % (epoch, i, loss.item()))\n",
    "        if time.time() - last_printed > 10:\n",
    "            for s in samples:\n",
    "                pprint_tagged_sentence(model, s)\n",
    "            last_printed = time.time()\n",
    "\n",
    "    print(f\"ending epoch %03d, loss: %.08f\" % (epoch, training_loss))\n",
    "    \n",
    "    torch.save(model, f\"training-{epoch}-{training_loss}.model\")\n"
   ]
  },
  {
   "cell_type": "code",
   "execution_count": null,
   "metadata": {},
   "outputs": [],
   "source": [
    "with torch.no_grad():\n",
    "    (inputs, tags) = vocab.prepare_example(*corpus.loc[1][['title', 'beg', 'length']])\n",
    "    print([*corpus.loc[1][['title', 'beg', 'length']]])\n",
    "    print('input:', [*inputs.size()], inputs)\n",
    "    tag_scores = model(inputs).view(-1)\n",
    "    print('prediction:', [*tag_scores.size()], tag_scores.view(-1))\n",
    "    print('target', [*tags.size()], tags.view(-1))\n",
    "    print('loss', loss_function(tag_scores.view(1, -1), tags.view(1, -1)))"
   ]
  },
  {
   "cell_type": "code",
   "execution_count": null,
   "metadata": {},
   "outputs": [],
   "source": [
    "torch.multiprocessing.get_sharing_strategy()"
   ]
  },
  {
   "cell_type": "code",
   "execution_count": null,
   "metadata": {},
   "outputs": [],
   "source": [
    "torch.multiprocessing.get_all_sharing_strategies()"
   ]
  },
  {
   "cell_type": "code",
   "execution_count": null,
   "metadata": {},
   "outputs": [],
   "source": [
    "from IPython.display import display, HTML\n",
    "\n",
    "display(HTML('<span style=\"color: #a80\">helo</span>'))"
   ]
  },
  {
   "cell_type": "code",
   "execution_count": null,
   "metadata": {},
   "outputs": [],
   "source": []
  }
 ],
 "metadata": {
  "kernelspec": {
   "display_name": "Python 3",
   "language": "python",
   "name": "python3"
  },
  "language_info": {
   "codemirror_mode": {
    "name": "ipython",
    "version": 3
   },
   "file_extension": ".py",
   "mimetype": "text/x-python",
   "name": "python",
   "nbconvert_exporter": "python",
   "pygments_lexer": "ipython3",
   "version": "3.6.3"
  }
 },
 "nbformat": 4,
 "nbformat_minor": 2
}
